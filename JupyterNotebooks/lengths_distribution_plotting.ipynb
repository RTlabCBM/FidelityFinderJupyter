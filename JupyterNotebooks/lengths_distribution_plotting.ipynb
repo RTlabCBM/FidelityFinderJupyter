{
  "nbformat": 4,
  "nbformat_minor": 0,
  "metadata": {
    "colab": {
      "provenance": []
    },
    "kernelspec": {
      "name": "python3",
      "display_name": "Python 3"
    },
    "language_info": {
      "name": "python"
    }
  },
  "cells": [
    {
      "cell_type": "markdown",
      "source": [
        "# **lengths_distribution_plotting**"
      ],
      "metadata": {
        "id": "f9WauITDAZOB"
      }
    },
    {
      "cell_type": "markdown",
      "source": [
        "Python script to create bar plots depicting the distribution of sequence lengths.\n",
        "\n",
        "For additional details, please refer to the GitHub repository: https://github.com/RTlabCBM/FidelityFinder"
      ],
      "metadata": {
        "id": "eFjMghoWeMpw"
      }
    },
    {
      "cell_type": "code",
      "source": [
        "#@markdown # Upload your file\n",
        "#@markdown  Input file (for example, a .txt or .csv file) must contain rows where the first element of each row is the length of a sequence and the second element is the frequency of that length.\\\n",
        "#@markdown  Format example:\\\n",
        "#@markdown  450 2\\\n",
        "#@markdown  or\\\n",
        "#@markdown  452,7\\\n",
        "#@markdown  or\\\n",
        "#@markdown  452;7\n",
        "from google.colab import files\n",
        "uploaded = files.upload()\n",
        "input_file = list(uploaded.keys())[0]"
      ],
      "metadata": {
        "colab": {
          "base_uri": "https://localhost:8080/",
          "height": 71
        },
        "cellView": "form",
        "id": "kvKql29xAdPK",
        "outputId": "25134719-e8ac-4e77-a610-f9771767887a"
      },
      "execution_count": null,
      "outputs": [
        {
          "output_type": "display_data",
          "data": {
            "text/plain": [
              "<IPython.core.display.HTML object>"
            ],
            "text/html": [
              "\n",
              "     <input type=\"file\" id=\"files-6ed894b6-9b27-4a95-a451-9ee952ce0404\" name=\"files[]\" multiple disabled\n",
              "        style=\"border:none\" />\n",
              "     <output id=\"result-6ed894b6-9b27-4a95-a451-9ee952ce0404\">\n",
              "      Upload widget is only available when the cell has been executed in the\n",
              "      current browser session. Please rerun this cell to enable.\n",
              "      </output>\n",
              "      <script>// Copyright 2017 Google LLC\n",
              "//\n",
              "// Licensed under the Apache License, Version 2.0 (the \"License\");\n",
              "// you may not use this file except in compliance with the License.\n",
              "// You may obtain a copy of the License at\n",
              "//\n",
              "//      http://www.apache.org/licenses/LICENSE-2.0\n",
              "//\n",
              "// Unless required by applicable law or agreed to in writing, software\n",
              "// distributed under the License is distributed on an \"AS IS\" BASIS,\n",
              "// WITHOUT WARRANTIES OR CONDITIONS OF ANY KIND, either express or implied.\n",
              "// See the License for the specific language governing permissions and\n",
              "// limitations under the License.\n",
              "\n",
              "/**\n",
              " * @fileoverview Helpers for google.colab Python module.\n",
              " */\n",
              "(function(scope) {\n",
              "function span(text, styleAttributes = {}) {\n",
              "  const element = document.createElement('span');\n",
              "  element.textContent = text;\n",
              "  for (const key of Object.keys(styleAttributes)) {\n",
              "    element.style[key] = styleAttributes[key];\n",
              "  }\n",
              "  return element;\n",
              "}\n",
              "\n",
              "// Max number of bytes which will be uploaded at a time.\n",
              "const MAX_PAYLOAD_SIZE = 100 * 1024;\n",
              "\n",
              "function _uploadFiles(inputId, outputId) {\n",
              "  const steps = uploadFilesStep(inputId, outputId);\n",
              "  const outputElement = document.getElementById(outputId);\n",
              "  // Cache steps on the outputElement to make it available for the next call\n",
              "  // to uploadFilesContinue from Python.\n",
              "  outputElement.steps = steps;\n",
              "\n",
              "  return _uploadFilesContinue(outputId);\n",
              "}\n",
              "\n",
              "// This is roughly an async generator (not supported in the browser yet),\n",
              "// where there are multiple asynchronous steps and the Python side is going\n",
              "// to poll for completion of each step.\n",
              "// This uses a Promise to block the python side on completion of each step,\n",
              "// then passes the result of the previous step as the input to the next step.\n",
              "function _uploadFilesContinue(outputId) {\n",
              "  const outputElement = document.getElementById(outputId);\n",
              "  const steps = outputElement.steps;\n",
              "\n",
              "  const next = steps.next(outputElement.lastPromiseValue);\n",
              "  return Promise.resolve(next.value.promise).then((value) => {\n",
              "    // Cache the last promise value to make it available to the next\n",
              "    // step of the generator.\n",
              "    outputElement.lastPromiseValue = value;\n",
              "    return next.value.response;\n",
              "  });\n",
              "}\n",
              "\n",
              "/**\n",
              " * Generator function which is called between each async step of the upload\n",
              " * process.\n",
              " * @param {string} inputId Element ID of the input file picker element.\n",
              " * @param {string} outputId Element ID of the output display.\n",
              " * @return {!Iterable<!Object>} Iterable of next steps.\n",
              " */\n",
              "function* uploadFilesStep(inputId, outputId) {\n",
              "  const inputElement = document.getElementById(inputId);\n",
              "  inputElement.disabled = false;\n",
              "\n",
              "  const outputElement = document.getElementById(outputId);\n",
              "  outputElement.innerHTML = '';\n",
              "\n",
              "  const pickedPromise = new Promise((resolve) => {\n",
              "    inputElement.addEventListener('change', (e) => {\n",
              "      resolve(e.target.files);\n",
              "    });\n",
              "  });\n",
              "\n",
              "  const cancel = document.createElement('button');\n",
              "  inputElement.parentElement.appendChild(cancel);\n",
              "  cancel.textContent = 'Cancel upload';\n",
              "  const cancelPromise = new Promise((resolve) => {\n",
              "    cancel.onclick = () => {\n",
              "      resolve(null);\n",
              "    };\n",
              "  });\n",
              "\n",
              "  // Wait for the user to pick the files.\n",
              "  const files = yield {\n",
              "    promise: Promise.race([pickedPromise, cancelPromise]),\n",
              "    response: {\n",
              "      action: 'starting',\n",
              "    }\n",
              "  };\n",
              "\n",
              "  cancel.remove();\n",
              "\n",
              "  // Disable the input element since further picks are not allowed.\n",
              "  inputElement.disabled = true;\n",
              "\n",
              "  if (!files) {\n",
              "    return {\n",
              "      response: {\n",
              "        action: 'complete',\n",
              "      }\n",
              "    };\n",
              "  }\n",
              "\n",
              "  for (const file of files) {\n",
              "    const li = document.createElement('li');\n",
              "    li.append(span(file.name, {fontWeight: 'bold'}));\n",
              "    li.append(span(\n",
              "        `(${file.type || 'n/a'}) - ${file.size} bytes, ` +\n",
              "        `last modified: ${\n",
              "            file.lastModifiedDate ? file.lastModifiedDate.toLocaleDateString() :\n",
              "                                    'n/a'} - `));\n",
              "    const percent = span('0% done');\n",
              "    li.appendChild(percent);\n",
              "\n",
              "    outputElement.appendChild(li);\n",
              "\n",
              "    const fileDataPromise = new Promise((resolve) => {\n",
              "      const reader = new FileReader();\n",
              "      reader.onload = (e) => {\n",
              "        resolve(e.target.result);\n",
              "      };\n",
              "      reader.readAsArrayBuffer(file);\n",
              "    });\n",
              "    // Wait for the data to be ready.\n",
              "    let fileData = yield {\n",
              "      promise: fileDataPromise,\n",
              "      response: {\n",
              "        action: 'continue',\n",
              "      }\n",
              "    };\n",
              "\n",
              "    // Use a chunked sending to avoid message size limits. See b/62115660.\n",
              "    let position = 0;\n",
              "    do {\n",
              "      const length = Math.min(fileData.byteLength - position, MAX_PAYLOAD_SIZE);\n",
              "      const chunk = new Uint8Array(fileData, position, length);\n",
              "      position += length;\n",
              "\n",
              "      const base64 = btoa(String.fromCharCode.apply(null, chunk));\n",
              "      yield {\n",
              "        response: {\n",
              "          action: 'append',\n",
              "          file: file.name,\n",
              "          data: base64,\n",
              "        },\n",
              "      };\n",
              "\n",
              "      let percentDone = fileData.byteLength === 0 ?\n",
              "          100 :\n",
              "          Math.round((position / fileData.byteLength) * 100);\n",
              "      percent.textContent = `${percentDone}% done`;\n",
              "\n",
              "    } while (position < fileData.byteLength);\n",
              "  }\n",
              "\n",
              "  // All done.\n",
              "  yield {\n",
              "    response: {\n",
              "      action: 'complete',\n",
              "    }\n",
              "  };\n",
              "}\n",
              "\n",
              "scope.google = scope.google || {};\n",
              "scope.google.colab = scope.google.colab || {};\n",
              "scope.google.colab._files = {\n",
              "  _uploadFiles,\n",
              "  _uploadFilesContinue,\n",
              "};\n",
              "})(self);\n",
              "</script> "
            ]
          },
          "metadata": {}
        },
        {
          "output_type": "stream",
          "name": "stdout",
          "text": [
            "Saving Test_lengths.txt to Test_lengths.txt\n"
          ]
        }
      ]
    },
    {
      "cell_type": "code",
      "source": [
        "#@markdown # Input parameters\n",
        "#@markdown\n",
        "output_prefix = \"\" #@param {type:\"string\"}\n"
      ],
      "metadata": {
        "cellView": "form",
        "id": "XUrfUaTYDUYu"
      },
      "execution_count": null,
      "outputs": []
    },
    {
      "cell_type": "code",
      "source": [
        "#@markdown # Main program\n",
        "__file__ = \"main_program\"\n",
        "\n",
        "\n",
        "# encoding: UTF-8\n",
        "\n",
        "\n",
        "__doc__ = \"\"\"\n",
        "SYNOPSIS\n",
        "\n",
        "  Python script to create bar plots depicting the distribution of sequence lengths.\n",
        "\n",
        "  This script is an adaptation of the original program to be run on Google Colab.\n",
        "\n",
        "DESCRIPTION\n",
        "\n",
        " This script reads sequence length data from an input file and generates two bar plots:\n",
        " 1. A standard bar plot with sequence lengths on the x-axis and corresponding frequencies on the y-axis.\n",
        " 2. A log-scaled bar plot for better visualization of frequency distribution.\n",
        "\n",
        " Parameters. These variables are needed:\n",
        "    input_file      file\n",
        "    output_prefix\t\toutput prefix\n",
        "\n",
        "\n",
        " Input file:\n",
        " Input file must contain rows where the first element of each row is the length of a sequence and the second element is the frequency of that length. Example:\n",
        "    450 2\n",
        "    451;16\n",
        "    452,7\n",
        "\n",
        "  Output files:\n",
        "  Two plot files are generated with the specified output prefix:\n",
        "    1. {output_prefix}_lengths_distribution.png\n",
        "    2. {output_prefix}_lengths_distribution_logscale.png\n",
        "\n",
        "\n",
        "AUTHORS\n",
        "\n",
        "    Javier Martinez del Río (javier.martinez@cbm.csic.es; javier.mardelrio@gmail.com)\n",
        "\n",
        "\"\"\"\n",
        "\n",
        "__version__ = 'v1.0.0'\n",
        "\n",
        "\n",
        "## Imports\n",
        "##----------\n",
        "import sys, os\n",
        "import re\n",
        "import matplotlib.pyplot as plt\n",
        "%matplotlib inline\n",
        "\n",
        "\n",
        "## Functions\n",
        "##----------\n",
        "\n",
        "\n",
        "def send_error_message(message):\n",
        "    \"\"\"Gives an error message\"\"\"\n",
        "    print(\"\\n\\t########## ERROR ########## \\n{}\\n\".format(message))\n",
        "    sys.exit(1)\n",
        "\n",
        "def read_data(input_file):\n",
        "    with open(input_file, 'r') as file:\n",
        "        content = file.read()\n",
        "    rows = content.strip().split('\\n')\n",
        "    lengths = []\n",
        "    frequencies = []\n",
        "    for row in rows:\n",
        "        numbers = re.split(r'\\D+', row)\n",
        "        lengths.append(int(numbers[0]))\n",
        "        frequencies.append(int(numbers[1]))\n",
        "    return lengths, frequencies\n",
        "\n",
        "def create_plot(lengths, frequencies, output_file, log_scale=False):\n",
        "    fig = plt.figure(figsize=(10, 6))\n",
        "    plt.bar(lengths, frequencies, width=2)\n",
        "    plt.xlabel('Sequence length (nt)')\n",
        "    plt.ylabel('Number of sequences')\n",
        "    title = 'Distribution of sequence lengths'\n",
        "    if log_scale:\n",
        "        title += ' (log scale)'\n",
        "        plt.yscale('log')\n",
        "    plt.title(title)\n",
        "    plt.savefig(output_file)\n",
        "    plt.show()\n",
        "    plt.close()\n",
        "\n",
        "\n",
        "\n",
        "## Main program\n",
        "##-------------\n",
        "\n",
        "## Step 1: Parameters catching\n",
        "##--------------------\n",
        "\n",
        "print(\"\\tStep 1 => Parameters catching\")\n",
        "\n",
        "# Check that the necessary variables have been provided\n",
        "assert 'input_file' and isinstance(input_file, str), \"Please provide an input file\"\n",
        "\n",
        "if not os.path.isfile(input_file):\n",
        "    send_error_message(f'Input file \"{input_file}\" of {__file__} does not exist. Please provide a valid file path.')\n",
        "\n",
        "print(\"\\tStep 1 done\\n\")\n",
        "\n",
        "\n",
        "## Step 2: Reading input file\n",
        "##--------------------\n",
        "\n",
        "print(\"\\tStep 2 Read input file\\n\")\n",
        "\n",
        "lengths, frequencies = read_data(input_file)\n",
        "\n",
        "print(\"\\tStep 2 done\\n\")\n",
        "\n",
        "\n",
        "## Step 3: Creating graphs\n",
        "##--------------------\n",
        "\n",
        "print(\"\\tStep 3 Creating graphs\\n\")\n",
        "\n",
        "# FIRST GRAPH (standard axis)\n",
        "plot_file = f\"{output_prefix}_lengths_distribution.png\"\n",
        "create_plot(lengths, frequencies, plot_file, log_scale=False)\n",
        "\n",
        "# SECOND GRAPH (log axis)\n",
        "plot_file_log = f\"{output_prefix}_lengths_distribution_logscale.png\"\n",
        "create_plot(lengths, frequencies, plot_file_log, log_scale=True)\n",
        "\n",
        "print(\"\\tStep 3 done\\n\")\n",
        "\n"
      ],
      "metadata": {
        "colab": {
          "base_uri": "https://localhost:8080/",
          "height": 1000
        },
        "cellView": "form",
        "id": "q8PfiKGABItO",
        "outputId": "217ad527-60a3-4475-eb86-34526f3b2d1f"
      },
      "execution_count": null,
      "outputs": [
        {
          "output_type": "stream",
          "name": "stdout",
          "text": [
            "\tStep 1 => Parameters catching\n",
            "\tStep 1 done\n",
            "\n",
            "\tStep 2 Read input file\n",
            "\n",
            "\tStep 2 done\n",
            "\n",
            "\tStep 3 Creating graphs\n",
            "\n"
          ]
        },
        {
          "output_type": "display_data",
          "data": {
            "text/plain": [
              "<Figure size 1000x600 with 1 Axes>"
            ],
            "image/png": "[encoded data removed]"
          },
          "metadata": {}
        },
        {
          "output_type": "display_data",
          "data": {
            "text/plain": [
              "<Figure size 1000x600 with 1 Axes>"
            ],
            "image/png": "[encoded data removed]"
          },
          "metadata": {}
        },
        {
          "output_type": "stream",
          "name": "stdout",
          "text": [
            "\tStep 3 done\n",
            "\n"
          ]
        }
      ]
    },
    {
      "cell_type": "code",
      "source": [
        "#@markdown # Download files\n",
        "files.download(plot_file)\n",
        "files.download(plot_file_log)\n"
      ],
      "metadata": {
        "colab": {
          "base_uri": "https://localhost:8080/",
          "height": 17
        },
        "cellView": "form",
        "id": "xxQKZTw2BJzp",
        "outputId": "02161363-d74d-4574-d9d7-4bed4d15b148"
      },
      "execution_count": null,
      "outputs": [
        {
          "output_type": "display_data",
          "data": {
            "text/plain": [
              "<IPython.core.display.Javascript object>"
            ],
            "application/javascript": [
              "\n",
              "    async function download(id, filename, size) {\n",
              "      if (!google.colab.kernel.accessAllowed) {\n",
              "        return;\n",
              "      }\n",
              "      const div = document.createElement('div');\n",
              "      const label = document.createElement('label');\n",
              "      label.textContent = `Downloading \"${filename}\": `;\n",
              "      div.appendChild(label);\n",
              "      const progress = document.createElement('progress');\n",
              "      progress.max = size;\n",
              "      div.appendChild(progress);\n",
              "      document.body.appendChild(div);\n",
              "\n",
              "      const buffers = [];\n",
              "      let downloaded = 0;\n",
              "\n",
              "      const channel = await google.colab.kernel.comms.open(id);\n",
              "      // Send a message to notify the kernel that we're ready.\n",
              "      channel.send({})\n",
              "\n",
              "      for await (const message of channel.messages) {\n",
              "        // Send a message to notify the kernel that we're ready.\n",
              "        channel.send({})\n",
              "        if (message.buffers) {\n",
              "          for (const buffer of message.buffers) {\n",
              "            buffers.push(buffer);\n",
              "            downloaded += buffer.byteLength;\n",
              "            progress.value = downloaded;\n",
              "          }\n",
              "        }\n",
              "      }\n",
              "      const blob = new Blob(buffers, {type: 'application/binary'});\n",
              "      const a = document.createElement('a');\n",
              "      a.href = window.URL.createObjectURL(blob);\n",
              "      a.download = filename;\n",
              "      div.appendChild(a);\n",
              "      a.click();\n",
              "      div.remove();\n",
              "    }\n",
              "  "
            ]
          },
          "metadata": {}
        },
        {
          "output_type": "display_data",
          "data": {
            "text/plain": [
              "<IPython.core.display.Javascript object>"
            ],
            "application/javascript": [
              "download(\"download_7840959c-b457-4e9d-8bde-9ef0199a88f6\", \"_lengths_distribution.png\", 19689)"
            ]
          },
          "metadata": {}
        },
        {
          "output_type": "display_data",
          "data": {
            "text/plain": [
              "<IPython.core.display.Javascript object>"
            ],
            "application/javascript": [
              "\n",
              "    async function download(id, filename, size) {\n",
              "      if (!google.colab.kernel.accessAllowed) {\n",
              "        return;\n",
              "      }\n",
              "      const div = document.createElement('div');\n",
              "      const label = document.createElement('label');\n",
              "      label.textContent = `Downloading \"${filename}\": `;\n",
              "      div.appendChild(label);\n",
              "      const progress = document.createElement('progress');\n",
              "      progress.max = size;\n",
              "      div.appendChild(progress);\n",
              "      document.body.appendChild(div);\n",
              "\n",
              "      const buffers = [];\n",
              "      let downloaded = 0;\n",
              "\n",
              "      const channel = await google.colab.kernel.comms.open(id);\n",
              "      // Send a message to notify the kernel that we're ready.\n",
              "      channel.send({})\n",
              "\n",
              "      for await (const message of channel.messages) {\n",
              "        // Send a message to notify the kernel that we're ready.\n",
              "        channel.send({})\n",
              "        if (message.buffers) {\n",
              "          for (const buffer of message.buffers) {\n",
              "            buffers.push(buffer);\n",
              "            downloaded += buffer.byteLength;\n",
              "            progress.value = downloaded;\n",
              "          }\n",
              "        }\n",
              "      }\n",
              "      const blob = new Blob(buffers, {type: 'application/binary'});\n",
              "      const a = document.createElement('a');\n",
              "      a.href = window.URL.createObjectURL(blob);\n",
              "      a.download = filename;\n",
              "      div.appendChild(a);\n",
              "      a.click();\n",
              "      div.remove();\n",
              "    }\n",
              "  "
            ]
          },
          "metadata": {}
        },
        {
          "output_type": "display_data",
          "data": {
            "text/plain": [
              "<IPython.core.display.Javascript object>"
            ],
            "application/javascript": [
              "download(\"download_8bcfdb22-2e1e-4ced-9c8f-a4ebd71c46c2\", \"_lengths_distribution_logscale.png\", 20806)"
            ]
          },
          "metadata": {}
        }
      ]
    }
  ]
}